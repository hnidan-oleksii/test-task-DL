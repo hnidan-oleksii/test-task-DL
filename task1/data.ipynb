{
 "cells": [
  {
   "cell_type": "code",
   "execution_count": 1,
   "id": "2ea2e055-0f6a-4966-9dd5-a8d735e8914e",
   "metadata": {},
   "outputs": [],
   "source": [
    "import os\n",
    "import random"
   ]
  },
  {
   "cell_type": "code",
   "execution_count": 5,
   "id": "026534c3-04a6-41e4-ad35-5ec4f3ff7de8",
   "metadata": {},
   "outputs": [
    {
     "data": {
      "text/plain": [
       "'O O O O O O O O O O O O B-mountain_name I-mountain_name O O O O O\\tThere are four alleged Sanzu rivers in Japan ; the one located near Mount Osore is the most northern .\\n'"
      ]
     },
     "execution_count": 5,
     "metadata": {},
     "output_type": "execute_result"
    }
   ],
   "source": [
    "input_path = './data/EWNERTC_TC_Fine Grained NER_No_NoiseReduction.DUMP'\n",
    "\n",
    "with open(input_path, 'r', encoding='utf-8') as infile, open('./data/filtered', 'w', encoding='utf-8') as outfile:\n",
    "         for line in infile:\n",
    "             if 'B-mountain_name' in line:\n",
    "                 split_line = line.split('\\t')\n",
    "                 corrected_line = '\\t'.join([replace_tags(split_line[1]), split_line[2]])\n",
    "                 outfile.write(corrected_line)\n",
    "corrected_line"
   ]
  },
  {
   "cell_type": "code",
   "execution_count": 7,
   "id": "1c1e9867-ac31-464c-97bd-a0c50b35ca2c",
   "metadata": {},
   "outputs": [],
   "source": [
    "def replace_tags(line):\n",
    "    '''Remove NER tags other then mountain-related.'''\n",
    "    allowed_tags = {'B-mountain_name': 'B-MOUNTAIN', 'I-mountain_name': 'I-MOUNTAIN'}\n",
    "    new_tags = [allowed_tags.get(tag, 'O') for tag in line.split()]\n",
    "    return ' '.join(new_tags)"
   ]
  },
  {
   "cell_type": "markdown",
   "id": "fe762a6f-02d4-4ecb-ae5a-0d5dfc8d0530",
   "metadata": {},
   "source": [
    "## Data preprocessing\n",
    "1. Leaving only sentences that contain mountain-related tags in them\n",
    "2. Leaving only mountain-related tags and replacing other ones with 'O'\n",
    "3. Writing line in a random file with probabilites (splitting): train - 70%; validation - 15%; test - 15%.\n",
    "4. Writing texts and labels for test set into separate files"
   ]
  },
  {
   "cell_type": "code",
   "execution_count": 23,
   "id": "da9dd78f-d108-49a6-88ae-3530d54000e8",
   "metadata": {},
   "outputs": [
    {
     "data": {
      "text/plain": [
       "10598"
      ]
     },
     "execution_count": 23,
     "metadata": {},
     "output_type": "execute_result"
    }
   ],
   "source": [
    "input_path = './data/raw_data/EWNERTC_TC_Fine Grained NER_No_NoiseReduction.DUMP'\n",
    "output_paths = ['./data/train', './data/val', './data/test_text', './data/test_labels']\n",
    "output_ratios = [0.7, 0.15, 0.15]\n",
    "mountain_rows = 0\n",
    "\n",
    "with open(input_path, 'r', encoding='utf-8') as infile, \\\n",
    "     open(output_paths[0], 'w', encoding='utf-8') as train_file, \\\n",
    "     open(output_paths[1], 'w', encoding='utf-8') as val_file, \\\n",
    "     open(output_paths[2], 'w', encoding='utf-8') as test_texts, \\\n",
    "     open(output_paths[3], 'w', encoding='utf-8') as test_labels:\n",
    "         output_files = [train_file, val_file, test_texts]\n",
    "\n",
    "         for line in infile:\n",
    "             if 'B-mountain_name' not in line:\n",
    "                 continue\n",
    "             output_file = random.choices(output_files, weights=output_ratios)[0]\n",
    "             split_line = line.split('\\t')\n",
    "             split_line = [replace_tags(split_line[1]), split_line[2]]\n",
    "             if output_file == test_texts:\n",
    "                 test_labels.write(split_line[0] + '\\n')\n",
    "                 test_texts.write(split_line[1])\n",
    "             else:\n",
    "                 output_file.write('\\t'.join(split_line))\n",
    "             \n",
    "             mountain_rows += 1\n",
    "\n",
    "mountain_rows"
   ]
  },
  {
   "cell_type": "markdown",
   "id": "f561c91c-4baf-41a2-a591-71f2e02a9b67",
   "metadata": {},
   "source": [
    "Data is split in roughly 70:15:15 ratio"
   ]
  },
  {
   "cell_type": "code",
   "execution_count": 24,
   "id": "0cecd394-c605-4b16-b0ae-04f17ab81d97",
   "metadata": {},
   "outputs": [
    {
     "name": "stdout",
     "output_type": "stream",
     "text": [
      "7388\n",
      "B-MOUNTAIN I-MOUNTAIN O O O O O O O O O O O O O O O O O O O O O O O O O O O O O O O O O O O O O O O O O O O O O O O\tMount Cynthus is located on the isle of Delos , part of the Greek Cyclades . In Greek mythology , Leto gave birth to Apollo and Artemis on this island , having been shunned by Zeus \" wife Hera who was extremely jealous of his liaison with Leto .\n",
      "\n",
      "1599\n",
      "B-MOUNTAIN I-MOUNTAIN O O O O O O O O O O O O O O O O\tSan Pablo is a volcano located in the Antofagasta Region of Chile , near the Bolivia border .\n",
      "\n",
      "1611\n",
      "It lies within Medicine Bow National Forest and is the highest point in southern Wyoming .\n",
      "\n",
      "1611\n",
      "O O O B-MOUNTAIN O O O O O O O O O O O O\n",
      "\n"
     ]
    }
   ],
   "source": [
    "for output_path in output_paths:\n",
    "    with open(output_path, 'r', encoding='utf-8') as f:\n",
    "        lines = f.readlines()\n",
    "        print(len(lines))\n",
    "        print(lines[0])"
   ]
  },
  {
   "cell_type": "code",
   "execution_count": null,
   "id": "98d82495-e024-467f-8a6a-4da46415d714",
   "metadata": {},
   "outputs": [],
   "source": []
  }
 ],
 "metadata": {
  "kernelspec": {
   "display_name": "Python 3 (ipykernel)",
   "language": "python",
   "name": "python3"
  },
  "language_info": {
   "codemirror_mode": {
    "name": "ipython",
    "version": 3
   },
   "file_extension": ".py",
   "mimetype": "text/x-python",
   "name": "python",
   "nbconvert_exporter": "python",
   "pygments_lexer": "ipython3",
   "version": "3.12.8"
  }
 },
 "nbformat": 4,
 "nbformat_minor": 5
}
