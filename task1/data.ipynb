{
 "cells": [
  {
   "cell_type": "code",
   "execution_count": 38,
   "id": "2ea2e055-0f6a-4966-9dd5-a8d735e8914e",
   "metadata": {},
   "outputs": [],
   "source": [
    "import os\n",
    "import random"
   ]
  },
  {
   "cell_type": "code",
   "execution_count": 35,
   "id": "1c1e9867-ac31-464c-97bd-a0c50b35ca2c",
   "metadata": {},
   "outputs": [],
   "source": [
    "def replace_tags(line):\n",
    "    '''Replace all tags except for mointain ones with <0>'''\n",
    "    revisited_tags = []\n",
    "    for tag in line.split():\n",
    "        if tag == 'B-mountain_name':\n",
    "            revisited_tags.append('1')\n",
    "        elif tag == 'I-mountain_name':\n",
    "            revisited_tags.append('2')\n",
    "        else:\n",
    "            revisited_tags.append('0')\n",
    "\n",
    "    return ' '.join(revisited_tags)"
   ]
  },
  {
   "cell_type": "code",
   "execution_count": 44,
   "id": "da9dd78f-d108-49a6-88ae-3530d54000e8",
   "metadata": {},
   "outputs": [
    {
     "data": {
      "text/plain": [
       "10598"
      ]
     },
     "execution_count": 44,
     "metadata": {},
     "output_type": "execute_result"
    }
   ],
   "source": [
    "input_path = './data/EWNERTC_TC_Fine Grained NER_No_NoiseReduction.DUMP'\n",
    "output_train, output_val, output_test = ['./data/train', './data/val', './data/test']\n",
    "output_ratios = [0.7, 0.15, 0.15]\n",
    "mountain_rows = 0\n",
    "\n",
    "with open(input_path, 'r', encoding='utf-8') as infile, \\\n",
    "     open(output_train, 'w', encoding='utf-8') as train_file, \\\n",
    "     open(output_val, 'w', encoding='utf-8') as val_file, \\\n",
    "     open(output_test, 'w', encoding='utf-8') as test_file:\n",
    "         output_files = [train_file, val_file, test_file]\n",
    "         for line in infile:\n",
    "             if 'B-mountain_name' in line:\n",
    "                 split_line = line.split('\\t')\n",
    "                 corrected_line = '\\t'.join([replace_tags(split_line[1]), split_line[2]])\n",
    "                 \n",
    "                 output_file = random.choices(output_files, weights=output_ratios)[0]\n",
    "                 output_file.write(corrected_line)\n",
    "                 mountain_rows += 1\n",
    "\n",
    "mountain_rows"
   ]
  },
  {
   "cell_type": "code",
   "execution_count": 48,
   "id": "0cecd394-c605-4b16-b0ae-04f17ab81d97",
   "metadata": {},
   "outputs": [
    {
     "name": "stdout",
     "output_type": "stream",
     "text": [
      "7407\n",
      "1 2 0 0 0 0 0 0 0 0 0 0 0 0 0 0 0 0 0 0 0 0 0 0 0 0 0 0 0 0 0 0 0 0 0 0 0 0 0 0 0 0 0 0 0 0 0 0 0\tMount Cynthus is located on the isle of Delos , part of the Greek Cyclades . In Greek mythology , Leto gave birth to Apollo and Artemis on this island , having been shunned by Zeus \" wife Hera who was extremely jealous of his liaison with Leto .\n",
      "\n",
      "1590\n",
      "0 0 1 0 0 0 1 0 0 0 0 0 0 0 0 0 0 0 0 0 0 0 0 0 0 0 0 0 0\tMedicine Bow Peak is the highest peak in the Snowy Range , a part of the Medicine Bow Mountains , about 35 miles west of Laramie , Wyoming .\n",
      "\n",
      "1601\n",
      "0 0 0 0 0 0 0 1 2 0 0 0 0 0 0 0 0 0 0 0 0 0 0 0 0 0 0 0\tThe 1764 metre summit rises above the Puu Kukui Watershed Management Area , an 8661 acre private nature preserve maintained by the Maui Land & Pineapple Company .\n",
      "\n"
     ]
    }
   ],
   "source": [
    "for output_path in output_paths:\n",
    "    with open(output_path, 'r', encoding='utf-8') as f:\n",
    "        lines = f.readlines()\n",
    "        print(len(lines))\n",
    "        print(lines[0])"
   ]
  }
 ],
 "metadata": {
  "kernelspec": {
   "display_name": "Python 3 (ipykernel)",
   "language": "python",
   "name": "python3"
  },
  "language_info": {
   "codemirror_mode": {
    "name": "ipython",
    "version": 3
   },
   "file_extension": ".py",
   "mimetype": "text/x-python",
   "name": "python",
   "nbconvert_exporter": "python",
   "pygments_lexer": "ipython3",
   "version": "3.12.8"
  }
 },
 "nbformat": 4,
 "nbformat_minor": 5
}
